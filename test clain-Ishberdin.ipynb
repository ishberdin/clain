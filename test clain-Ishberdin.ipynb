{
 "cells": [
  {
   "cell_type": "code",
   "execution_count": 1,
   "metadata": {},
   "outputs": [],
   "source": [
    "import pandas as pd\n",
    "import numpy as np"
   ]
  },
  {
   "cell_type": "markdown",
   "metadata": {},
   "source": [
    "Считываем файлы"
   ]
  },
  {
   "cell_type": "code",
   "execution_count": 3,
   "metadata": {},
   "outputs": [],
   "source": [
    "clust_adress = pd.read_csv('address_clust.csv')\n",
    "stats_adress = pd.read_csv('address_stats.csv')"
   ]
  },
  {
   "cell_type": "code",
   "execution_count": 6,
   "metadata": {},
   "outputs": [
    {
     "data": {
      "text/html": [
       "<div>\n",
       "<style scoped>\n",
       "    .dataframe tbody tr th:only-of-type {\n",
       "        vertical-align: middle;\n",
       "    }\n",
       "\n",
       "    .dataframe tbody tr th {\n",
       "        vertical-align: top;\n",
       "    }\n",
       "\n",
       "    .dataframe thead th {\n",
       "        text-align: right;\n",
       "    }\n",
       "</style>\n",
       "<table border=\"1\" class=\"dataframe\">\n",
       "  <thead>\n",
       "    <tr style=\"text-align: right;\">\n",
       "      <th></th>\n",
       "      <th>id</th>\n",
       "      <th>address_id</th>\n",
       "      <th>transaction_id</th>\n",
       "      <th>received</th>\n",
       "      <th>sent</th>\n",
       "    </tr>\n",
       "  </thead>\n",
       "  <tbody>\n",
       "    <tr>\n",
       "      <th>0</th>\n",
       "      <td>87134765</td>\n",
       "      <td>46402336</td>\n",
       "      <td>19162323</td>\n",
       "      <td>0.0</td>\n",
       "      <td>1800000.0</td>\n",
       "    </tr>\n",
       "    <tr>\n",
       "      <th>1</th>\n",
       "      <td>87134766</td>\n",
       "      <td>45919235</td>\n",
       "      <td>19162323</td>\n",
       "      <td>0.0</td>\n",
       "      <td>1071052.0</td>\n",
       "    </tr>\n",
       "    <tr>\n",
       "      <th>2</th>\n",
       "      <td>87134767</td>\n",
       "      <td>46529090</td>\n",
       "      <td>19162323</td>\n",
       "      <td>1000000.0</td>\n",
       "      <td>0.0</td>\n",
       "    </tr>\n",
       "    <tr>\n",
       "      <th>3</th>\n",
       "      <td>87134768</td>\n",
       "      <td>46529091</td>\n",
       "      <td>19162323</td>\n",
       "      <td>1821052.0</td>\n",
       "      <td>0.0</td>\n",
       "    </tr>\n",
       "    <tr>\n",
       "      <th>4</th>\n",
       "      <td>87154706</td>\n",
       "      <td>46529090</td>\n",
       "      <td>19166856</td>\n",
       "      <td>0.0</td>\n",
       "      <td>1000000.0</td>\n",
       "    </tr>\n",
       "    <tr>\n",
       "      <th>5</th>\n",
       "      <td>87154707</td>\n",
       "      <td>46539634</td>\n",
       "      <td>19166856</td>\n",
       "      <td>90000.0</td>\n",
       "      <td>0.0</td>\n",
       "    </tr>\n",
       "    <tr>\n",
       "      <th>6</th>\n",
       "      <td>87154708</td>\n",
       "      <td>46402336</td>\n",
       "      <td>19166856</td>\n",
       "      <td>900000.0</td>\n",
       "      <td>0.0</td>\n",
       "    </tr>\n",
       "    <tr>\n",
       "      <th>7</th>\n",
       "      <td>87187802</td>\n",
       "      <td>46553407</td>\n",
       "      <td>19174421</td>\n",
       "      <td>0.0</td>\n",
       "      <td>4800000.0</td>\n",
       "    </tr>\n",
       "    <tr>\n",
       "      <th>8</th>\n",
       "      <td>87187803</td>\n",
       "      <td>46557249</td>\n",
       "      <td>19174421</td>\n",
       "      <td>4590000.0</td>\n",
       "      <td>0.0</td>\n",
       "    </tr>\n",
       "    <tr>\n",
       "      <th>9</th>\n",
       "      <td>87187804</td>\n",
       "      <td>46529090</td>\n",
       "      <td>19174421</td>\n",
       "      <td>200000.0</td>\n",
       "      <td>0.0</td>\n",
       "    </tr>\n",
       "  </tbody>\n",
       "</table>\n",
       "</div>"
      ],
      "text/plain": [
       "         id  address_id  transaction_id   received       sent\n",
       "0  87134765    46402336        19162323        0.0  1800000.0\n",
       "1  87134766    45919235        19162323        0.0  1071052.0\n",
       "2  87134767    46529090        19162323  1000000.0        0.0\n",
       "3  87134768    46529091        19162323  1821052.0        0.0\n",
       "4  87154706    46529090        19166856        0.0  1000000.0\n",
       "5  87154707    46539634        19166856    90000.0        0.0\n",
       "6  87154708    46402336        19166856   900000.0        0.0\n",
       "7  87187802    46553407        19174421        0.0  4800000.0\n",
       "8  87187803    46557249        19174421  4590000.0        0.0\n",
       "9  87187804    46529090        19174421   200000.0        0.0"
      ]
     },
     "execution_count": 6,
     "metadata": {},
     "output_type": "execute_result"
    }
   ],
   "source": [
    "stats_adress.head(10)"
   ]
  },
  {
   "cell_type": "code",
   "execution_count": 5,
   "metadata": {},
   "outputs": [
    {
     "data": {
      "text/html": [
       "<div>\n",
       "<style scoped>\n",
       "    .dataframe tbody tr th:only-of-type {\n",
       "        vertical-align: middle;\n",
       "    }\n",
       "\n",
       "    .dataframe tbody tr th {\n",
       "        vertical-align: top;\n",
       "    }\n",
       "\n",
       "    .dataframe thead th {\n",
       "        text-align: right;\n",
       "    }\n",
       "</style>\n",
       "<table border=\"1\" class=\"dataframe\">\n",
       "  <thead>\n",
       "    <tr style=\"text-align: right;\">\n",
       "      <th></th>\n",
       "      <th>address_id</th>\n",
       "      <th>cluster_id</th>\n",
       "    </tr>\n",
       "  </thead>\n",
       "  <tbody>\n",
       "    <tr>\n",
       "      <th>0</th>\n",
       "      <td>71413451</td>\n",
       "      <td>1</td>\n",
       "    </tr>\n",
       "    <tr>\n",
       "      <th>1</th>\n",
       "      <td>71411914</td>\n",
       "      <td>1</td>\n",
       "    </tr>\n",
       "    <tr>\n",
       "      <th>2</th>\n",
       "      <td>71410369</td>\n",
       "      <td>1</td>\n",
       "    </tr>\n",
       "    <tr>\n",
       "      <th>3</th>\n",
       "      <td>71410100</td>\n",
       "      <td>1</td>\n",
       "    </tr>\n",
       "    <tr>\n",
       "      <th>4</th>\n",
       "      <td>71410040</td>\n",
       "      <td>1</td>\n",
       "    </tr>\n",
       "  </tbody>\n",
       "</table>\n",
       "</div>"
      ],
      "text/plain": [
       "   address_id  cluster_id\n",
       "0    71413451           1\n",
       "1    71411914           1\n",
       "2    71410369           1\n",
       "3    71410100           1\n",
       "4    71410040           1"
      ]
     },
     "execution_count": 5,
     "metadata": {},
     "output_type": "execute_result"
    }
   ],
   "source": [
    "clust_adress.head()"
   ]
  },
  {
   "cell_type": "markdown",
   "metadata": {},
   "source": [
    "Соединяем файлы, и заменяем NaN на 0"
   ]
  },
  {
   "cell_type": "code",
   "execution_count": 7,
   "metadata": {},
   "outputs": [],
   "source": [
    "merged = stats_adress.merge(clust_adress, how='left', on='address_id')\n",
    "merged['cluster_id']= merged['cluster_id'].apply(lambda x: 0 if np.isnan(x) else x )"
   ]
  },
  {
   "cell_type": "code",
   "execution_count": 10,
   "metadata": {},
   "outputs": [
    {
     "data": {
      "text/html": [
       "<div>\n",
       "<style scoped>\n",
       "    .dataframe tbody tr th:only-of-type {\n",
       "        vertical-align: middle;\n",
       "    }\n",
       "\n",
       "    .dataframe tbody tr th {\n",
       "        vertical-align: top;\n",
       "    }\n",
       "\n",
       "    .dataframe thead th {\n",
       "        text-align: right;\n",
       "    }\n",
       "</style>\n",
       "<table border=\"1\" class=\"dataframe\">\n",
       "  <thead>\n",
       "    <tr style=\"text-align: right;\">\n",
       "      <th></th>\n",
       "      <th>id</th>\n",
       "      <th>address_id</th>\n",
       "      <th>transaction_id</th>\n",
       "      <th>received</th>\n",
       "      <th>sent</th>\n",
       "      <th>cluster_id</th>\n",
       "    </tr>\n",
       "  </thead>\n",
       "  <tbody>\n",
       "    <tr>\n",
       "      <th>0</th>\n",
       "      <td>87134765</td>\n",
       "      <td>46402336</td>\n",
       "      <td>19162323</td>\n",
       "      <td>0.0</td>\n",
       "      <td>1800000.0</td>\n",
       "      <td>0.0</td>\n",
       "    </tr>\n",
       "    <tr>\n",
       "      <th>1</th>\n",
       "      <td>87134766</td>\n",
       "      <td>45919235</td>\n",
       "      <td>19162323</td>\n",
       "      <td>0.0</td>\n",
       "      <td>1071052.0</td>\n",
       "      <td>0.0</td>\n",
       "    </tr>\n",
       "    <tr>\n",
       "      <th>2</th>\n",
       "      <td>87134767</td>\n",
       "      <td>46529090</td>\n",
       "      <td>19162323</td>\n",
       "      <td>1000000.0</td>\n",
       "      <td>0.0</td>\n",
       "      <td>1.0</td>\n",
       "    </tr>\n",
       "    <tr>\n",
       "      <th>3</th>\n",
       "      <td>87134768</td>\n",
       "      <td>46529091</td>\n",
       "      <td>19162323</td>\n",
       "      <td>1821052.0</td>\n",
       "      <td>0.0</td>\n",
       "      <td>0.0</td>\n",
       "    </tr>\n",
       "    <tr>\n",
       "      <th>4</th>\n",
       "      <td>87154706</td>\n",
       "      <td>46529090</td>\n",
       "      <td>19166856</td>\n",
       "      <td>0.0</td>\n",
       "      <td>1000000.0</td>\n",
       "      <td>1.0</td>\n",
       "    </tr>\n",
       "  </tbody>\n",
       "</table>\n",
       "</div>"
      ],
      "text/plain": [
       "         id  address_id  transaction_id   received       sent  cluster_id\n",
       "0  87134765    46402336        19162323        0.0  1800000.0         0.0\n",
       "1  87134766    45919235        19162323        0.0  1071052.0         0.0\n",
       "2  87134767    46529090        19162323  1000000.0        0.0         1.0\n",
       "3  87134768    46529091        19162323  1821052.0        0.0         0.0\n",
       "4  87154706    46529090        19166856        0.0  1000000.0         1.0"
      ]
     },
     "execution_count": 10,
     "metadata": {},
     "output_type": "execute_result"
    }
   ],
   "source": [
    "merged.head()"
   ]
  },
  {
   "cell_type": "code",
   "execution_count": 13,
   "metadata": {},
   "outputs": [
    {
     "data": {
      "text/plain": [
       "False    54445\n",
       "True     22279\n",
       "dtype: int64"
      ]
     },
     "execution_count": 13,
     "metadata": {},
     "output_type": "execute_result"
    }
   ],
   "source": [
    "merged.duplicated().value_counts() #проверка на дубликаты"
   ]
  },
  {
   "cell_type": "code",
   "execution_count": 15,
   "metadata": {},
   "outputs": [
    {
     "data": {
      "text/plain": [
       "54445"
      ]
     },
     "execution_count": 15,
     "metadata": {},
     "output_type": "execute_result"
    }
   ],
   "source": [
    "merged = merged.drop_duplicates() #удаляем дубликаты\n",
    "len(merged)"
   ]
  },
  {
   "cell_type": "code",
   "execution_count": null,
   "metadata": {},
   "outputs": [],
   "source": [
    "sent = merged[merged['sent']>0]"
   ]
  },
  {
   "cell_type": "code",
   "execution_count": 188,
   "metadata": {},
   "outputs": [
    {
     "data": {
      "text/html": [
       "<div>\n",
       "<style scoped>\n",
       "    .dataframe tbody tr th:only-of-type {\n",
       "        vertical-align: middle;\n",
       "    }\n",
       "\n",
       "    .dataframe tbody tr th {\n",
       "        vertical-align: top;\n",
       "    }\n",
       "\n",
       "    .dataframe thead tr th {\n",
       "        text-align: left;\n",
       "    }\n",
       "\n",
       "    .dataframe thead tr:last-of-type th {\n",
       "        text-align: right;\n",
       "    }\n",
       "</style>\n",
       "<table border=\"1\" class=\"dataframe\">\n",
       "  <thead>\n",
       "    <tr>\n",
       "      <th></th>\n",
       "      <th>received</th>\n",
       "      <th>sent</th>\n",
       "      <th colspan=\"2\" halign=\"left\">cluster_id</th>\n",
       "    </tr>\n",
       "    <tr>\n",
       "      <th></th>\n",
       "      <th>sum</th>\n",
       "      <th>sum</th>\n",
       "      <th>count</th>\n",
       "      <th>nunique</th>\n",
       "    </tr>\n",
       "    <tr>\n",
       "      <th>transaction_id</th>\n",
       "      <th></th>\n",
       "      <th></th>\n",
       "      <th></th>\n",
       "      <th></th>\n",
       "    </tr>\n",
       "  </thead>\n",
       "  <tbody>\n",
       "    <tr>\n",
       "      <th>19162323</th>\n",
       "      <td>2821052.0</td>\n",
       "      <td>2871052.0</td>\n",
       "      <td>4</td>\n",
       "      <td>2</td>\n",
       "    </tr>\n",
       "    <tr>\n",
       "      <th>19166856</th>\n",
       "      <td>990000.0</td>\n",
       "      <td>1000000.0</td>\n",
       "      <td>3</td>\n",
       "      <td>2</td>\n",
       "    </tr>\n",
       "    <tr>\n",
       "      <th>19174421</th>\n",
       "      <td>4790000.0</td>\n",
       "      <td>4800000.0</td>\n",
       "      <td>3</td>\n",
       "      <td>2</td>\n",
       "    </tr>\n",
       "    <tr>\n",
       "      <th>19190163</th>\n",
       "      <td>150000.0</td>\n",
       "      <td>200000.0</td>\n",
       "      <td>2</td>\n",
       "      <td>2</td>\n",
       "    </tr>\n",
       "    <tr>\n",
       "      <th>19205422</th>\n",
       "      <td>2671052.0</td>\n",
       "      <td>2721052.0</td>\n",
       "      <td>4</td>\n",
       "      <td>2</td>\n",
       "    </tr>\n",
       "    <tr>\n",
       "      <th>...</th>\n",
       "      <td>...</td>\n",
       "      <td>...</td>\n",
       "      <td>...</td>\n",
       "      <td>...</td>\n",
       "    </tr>\n",
       "    <tr>\n",
       "      <th>29319673</th>\n",
       "      <td>6003590.0</td>\n",
       "      <td>6013590.0</td>\n",
       "      <td>7</td>\n",
       "      <td>1</td>\n",
       "    </tr>\n",
       "    <tr>\n",
       "      <th>29338157</th>\n",
       "      <td>156172924.0</td>\n",
       "      <td>156192924.0</td>\n",
       "      <td>13</td>\n",
       "      <td>2</td>\n",
       "    </tr>\n",
       "    <tr>\n",
       "      <th>29414489</th>\n",
       "      <td>11329670.0</td>\n",
       "      <td>11339670.0</td>\n",
       "      <td>4</td>\n",
       "      <td>2</td>\n",
       "    </tr>\n",
       "    <tr>\n",
       "      <th>30053430</th>\n",
       "      <td>6731692.0</td>\n",
       "      <td>6741692.0</td>\n",
       "      <td>3</td>\n",
       "      <td>2</td>\n",
       "    </tr>\n",
       "    <tr>\n",
       "      <th>30053558</th>\n",
       "      <td>4603962.0</td>\n",
       "      <td>4613962.0</td>\n",
       "      <td>4</td>\n",
       "      <td>2</td>\n",
       "    </tr>\n",
       "  </tbody>\n",
       "</table>\n",
       "<p>13753 rows × 4 columns</p>\n",
       "</div>"
      ],
      "text/plain": [
       "                   received         sent cluster_id        \n",
       "                        sum          sum      count nunique\n",
       "transaction_id                                             \n",
       "19162323          2821052.0    2871052.0          4       2\n",
       "19166856           990000.0    1000000.0          3       2\n",
       "19174421          4790000.0    4800000.0          3       2\n",
       "19190163           150000.0     200000.0          2       2\n",
       "19205422          2671052.0    2721052.0          4       2\n",
       "...                     ...          ...        ...     ...\n",
       "29319673          6003590.0    6013590.0          7       1\n",
       "29338157        156172924.0  156192924.0         13       2\n",
       "29414489         11329670.0   11339670.0          4       2\n",
       "30053430          6731692.0    6741692.0          3       2\n",
       "30053558          4603962.0    4613962.0          4       2\n",
       "\n",
       "[13753 rows x 4 columns]"
      ]
     },
     "execution_count": 188,
     "metadata": {},
     "output_type": "execute_result"
    }
   ],
   "source": [
    "group"
   ]
  },
  {
   "cell_type": "markdown",
   "metadata": {},
   "source": [
    "Проверка гипотезы о том, что в одной транзакции есть отправители только одного кластера.\n",
    "Группируем по транзакции, аггрегируем количество отправлений и количество разных кластеров -> убеждаемся, что нет строк, \n",
    "где количество разных кластеров >1"
   ]
  },
  {
   "cell_type": "code",
   "execution_count": 20,
   "metadata": {},
   "outputs": [
    {
     "data": {
      "text/html": [
       "<div>\n",
       "<style scoped>\n",
       "    .dataframe tbody tr th:only-of-type {\n",
       "        vertical-align: middle;\n",
       "    }\n",
       "\n",
       "    .dataframe tbody tr th {\n",
       "        vertical-align: top;\n",
       "    }\n",
       "\n",
       "    .dataframe thead tr th {\n",
       "        text-align: left;\n",
       "    }\n",
       "\n",
       "    .dataframe thead tr:last-of-type th {\n",
       "        text-align: right;\n",
       "    }\n",
       "</style>\n",
       "<table border=\"1\" class=\"dataframe\">\n",
       "  <thead>\n",
       "    <tr>\n",
       "      <th></th>\n",
       "      <th colspan=\"2\" halign=\"left\">cluster_id</th>\n",
       "    </tr>\n",
       "    <tr>\n",
       "      <th></th>\n",
       "      <th>count</th>\n",
       "      <th>nunique</th>\n",
       "    </tr>\n",
       "    <tr>\n",
       "      <th>transaction_id</th>\n",
       "      <th></th>\n",
       "      <th></th>\n",
       "    </tr>\n",
       "  </thead>\n",
       "  <tbody>\n",
       "  </tbody>\n",
       "</table>\n",
       "</div>"
      ],
      "text/plain": [
       "Empty DataFrame\n",
       "Columns: [(cluster_id, count), (cluster_id, nunique)]\n",
       "Index: []"
      ]
     },
     "execution_count": 20,
     "metadata": {},
     "output_type": "execute_result"
    }
   ],
   "source": [
    "sent = merged[merged['sent']>0]\n",
    "groups_sent = sent.groupby(by = 'transaction_id').agg({'cluster_id':['count','nunique']})\n",
    "groups_sent[groups_sent['cluster_id']['nunique']>1]"
   ]
  },
  {
   "cell_type": "markdown",
   "metadata": {
    "scrolled": false
   },
   "source": [
    "Создаем функцию для суммирования отправленных биткоинов от кластера a кластеру b, \n",
    "вывод в биткоинах"
   ]
  },
  {
   "cell_type": "code",
   "execution_count": 24,
   "metadata": {},
   "outputs": [],
   "source": [
    "def a_to_b_sum(a,b):\n",
    "    #список транзакций, в которых кластер a был отправителем\n",
    "    transactions_a = list(merged[(merged['cluster_id'] == a) & (merged['sent']>0)]['transaction_id'].unique()) \n",
    "    #сумма полученных сатош кластером b в транзакциях transactions_a\n",
    "    a_to_b_sum = merged[(merged['transaction_id'].isin(transactions_a))&(merged['cluster_id'] == b)]['received'].sum() \n",
    "    return a_to_b_sum/10**8\n",
    "    "
   ]
  },
  {
   "cell_type": "markdown",
   "metadata": {},
   "source": [
    "Функция для подсчета комиссии, потраченной кластером a в биткоинах"
   ]
  },
  {
   "cell_type": "code",
   "execution_count": 25,
   "metadata": {},
   "outputs": [],
   "source": [
    "def a_fee(a):\n",
    "    #список транзакций, в которых кластер a был отправителем\n",
    "    transactions_a = list(merged[(merged['cluster_id'] == a) & (merged['sent']>0)]['transaction_id'].unique())\n",
    "    #сумма отправленных сатош кластером a в транзакциях transactions_a\n",
    "    a_sent_sum = merged[(merged['transaction_id'].isin(transactions_a))]['sent'].sum()\n",
    "    #сумма полученных сатош любым кластером в транзакциях transactions_a\n",
    "    from_a_received_sum = merged[(merged['transaction_id'].isin(transactions_a))]['received'].sum()\n",
    "    a_fee_sum = a_sent_sum - from_a_received_sum\n",
    "    return a_fee_sum/10**8"
   ]
  },
  {
   "cell_type": "markdown",
   "metadata": {},
   "source": [
    "Ответы на вопросы"
   ]
  },
  {
   "cell_type": "code",
   "execution_count": 37,
   "metadata": {},
   "outputs": [
    {
     "name": "stdout",
     "output_type": "stream",
     "text": [
      "Кластер 1 отправил в кластер 2:  64.62162\n",
      "Кластер 2 отправил в кластер 1:  67.91\n",
      "Кластер 1 отправил в кластер 0:  291.5108346\n",
      "Кластер 0 отправил в кластер 1:  288.7905886\n",
      "Кластер 2 отправил в кластер 0:  2.43507\n",
      "Кластер 0 отправил в кластер 2:  6.09640861\n",
      "Кластер 1 потратил на fee:  0.502344\n",
      "Кластер 2 потратил на fee:  0.37295861\n"
     ]
    }
   ],
   "source": [
    "print('Кластер 1 отправил в кластер 2: ',a_to_b_sum(1,2))\n",
    "print('Кластер 2 отправил в кластер 1: ',a_to_b_sum(2,1))\n",
    "print('Кластер 1 отправил в кластер 0: ',a_to_b_sum(1,0))\n",
    "print('Кластер 0 отправил в кластер 1: ',a_to_b_sum(0,1))\n",
    "print('Кластер 2 отправил в кластер 0: ',a_to_b_sum(2,0))\n",
    "print('Кластер 0 отправил в кластер 2: ',a_to_b_sum(0,2))\n",
    "print('Кластер 1 потратил на fee: ',a_fee(1))\n",
    "print('Кластер 2 потратил на fee: ',a_fee(2))"
   ]
  }
 ],
 "metadata": {
  "kernelspec": {
   "display_name": "Python 3",
   "language": "python",
   "name": "python3"
  },
  "language_info": {
   "codemirror_mode": {
    "name": "ipython",
    "version": 3
   },
   "file_extension": ".py",
   "mimetype": "text/x-python",
   "name": "python",
   "nbconvert_exporter": "python",
   "pygments_lexer": "ipython3",
   "version": "3.7.6"
  }
 },
 "nbformat": 4,
 "nbformat_minor": 4
}
